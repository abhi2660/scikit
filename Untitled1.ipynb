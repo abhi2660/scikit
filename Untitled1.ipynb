{
 "cells": [
  {
   "cell_type": "code",
   "execution_count": 4,
   "id": "54a07bad-0012-46c8-b725-395fe91a2f14",
   "metadata": {},
   "outputs": [
    {
     "name": "stdin",
     "output_type": "stream",
     "text": [
      "enter the number of hour you study  8\n"
     ]
    },
    {
     "name": "stdout",
     "output_type": "stream",
     "text": [
      "predicted exam score :[[88.80952381]]\n"
     ]
    },
    {
     "name": "stderr",
     "output_type": "stream",
     "text": [
      "C:\\Users\\Victus\\AppData\\Local\\Programs\\Python\\Python311\\Lib\\site-packages\\sklearn\\base.py:493: UserWarning: X does not have valid feature names, but LinearRegression was fitted with feature names\n",
      "  warnings.warn(\n"
     ]
    }
   ],
   "source": [
    "''' Predict a satudents final exam score based on the number of hours they study'''\n",
    "\n",
    "\n",
    "\n",
    "import numpy as np\n",
    "import pandas as pd\n",
    "from sklearn.model_selection import train_test_split\n",
    "\n",
    "import numpy as np\n",
    "import pandas as pd\n",
    "from sklearn.model_selection import train_test_split\n",
    "from sklearn.linear_model import LinearRegression\n",
    "\n",
    "# step 2\n",
    "\n",
    "veerdata={'hour_study':[2,3,4,5,6,7,8,9,10],'exam_score':[50,60,70,75,80,85,90,92,95]}\n",
    "\n",
    "\n",
    "\n",
    "#step 3\n",
    "\n",
    "df=pd.DataFrame(veerdata)\n",
    "\n",
    "\n",
    "#step 4\n",
    "\n",
    "X=df[['hour_study']]\n",
    "Y=df[['exam_score']]\n",
    "\n",
    "#step 5\n",
    "X_train, X_test, Y_train, Y_test = train_test_split(X, Y, test_size=0.2, random_state=42)\n",
    "\n",
    "\n",
    "#step 6\n",
    "model=LinearRegression()\n",
    "\n",
    "#step 7\n",
    "model.fit(X_train,Y_train)\n",
    "\n",
    "user_in=float(input(\"enter the number of hour you study \"))\n",
    "\n",
    "predicted_score=model.predict([[user_in]])\n",
    "\n",
    "# print the output\n",
    "print(f\"predicted exam score :{predicted_score}\")"
   ]
  },
  {
   "cell_type": "code",
   "execution_count": null,
   "id": "4ba1cf32-1377-4fb4-86d2-db0e8ced15f0",
   "metadata": {},
   "outputs": [],
   "source": []
  }
 ],
 "metadata": {
  "kernelspec": {
   "display_name": "Python 3 (ipykernel)",
   "language": "python",
   "name": "python3"
  },
  "language_info": {
   "codemirror_mode": {
    "name": "ipython",
    "version": 3
   },
   "file_extension": ".py",
   "mimetype": "text/x-python",
   "name": "python",
   "nbconvert_exporter": "python",
   "pygments_lexer": "ipython3",
   "version": "3.11.5"
  }
 },
 "nbformat": 4,
 "nbformat_minor": 5
}
