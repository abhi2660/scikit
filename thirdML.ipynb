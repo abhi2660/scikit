{
 "cells": [
  {
   "cell_type": "code",
   "execution_count": null,
   "id": "b8fd5d42-0c6a-419f-8d81-e692d2e418fa",
   "metadata": {},
   "outputs": [],
   "source": [
    "''' A telecommunication company wants to reduse customer churn y udentifying customer at risk of leaving.They have historical \n",
    "data on customer behaviour and want to build a model to predict which customers are most likely to churn.'''"
   ]
  },
  {
   "cell_type": "code",
   "execution_count": null,
   "id": "1fe52073-7514-4925-95e7-965240ab519a",
   "metadata": {},
   "outputs": [],
   "source": [
    "import numpy as np\n",
    "import pandas as pd\n",
    "from sklearn.model_selection import train_test_split\n",
    "from sklearn.svm import SVC\n",
    "from sklearn.metrics import accuracy_score,classification_report"
   ]
  },
  {
   "cell_type": "code",
   "execution_count": null,
   "id": "a7a12006-05e9-48ef-8dea-c185f80fe62b",
   "metadata": {},
   "outputs": [],
   "source": [
    "data={'age':[30,25,35,20,40,55,32,28],'monthly_charge':[50,60,80,40,100,120,70,55],'churn':[0,1,0,1,0,1,0,1]}\n",
    "df=pd.DataFrame(data)\n"
   ]
  },
  {
   "cell_type": "code",
   "execution_count": null,
   "id": "831f5c7f-0693-41aa-bee3-4d73f254a5ed",
   "metadata": {},
   "outputs": [],
   "source": [
    "x=df[['age','monthly_charge']]\n",
    "y=df['churn']"
   ]
  },
  {
   "cell_type": "code",
   "execution_count": null,
   "id": "c68daa84-c66b-4475-94be-8c820bc0e657",
   "metadata": {},
   "outputs": [],
   "source": [
    "x_train,x_test,y_train,y_test=train_test_split(x,y,test_size=0.2,random_state=42)"
   ]
  },
  {
   "cell_type": "code",
   "execution_count": null,
   "id": "ed5751cf-5229-4d32-86e8-d71edc8f7ccd",
   "metadata": {},
   "outputs": [],
   "source": [
    "svc_model = SVC(kernel='linear', C=1.0)  #default regularization\n",
    "svc_model.fit(x_train,y_train)"
   ]
  },
  {
   "cell_type": "code",
   "execution_count": null,
   "id": "c27fa97b-77d9-49fa-9416-385c99305f0a",
   "metadata": {},
   "outputs": [],
   "source": [
    "y_pred=svc_model.predict(x_test)"
   ]
  },
  {
   "cell_type": "code",
   "execution_count": null,
   "id": "c5ad1ca6-69a3-4ab8-9203-3fb725a476dc",
   "metadata": {},
   "outputs": [],
   "source": [
    "accuracy=accuracy_score(y_test,y_pred)\n",
    "print(accuracy)"
   ]
  },
  {
   "cell_type": "raw",
   "id": "4e20eb3d-ab36-443a-bf07-4b38baf8f1dd",
   "metadata": {},
   "source": [
    "\n"
   ]
  },
  {
   "cell_type": "code",
   "execution_count": null,
   "id": "d167c0b5-65ec-4da0-945d-70140948ebbf",
   "metadata": {},
   "outputs": [],
   "source": [
    "report=classification_report(y_test,y_pred)\n",
    "print(report)"
   ]
  },
  {
   "cell_type": "code",
   "execution_count": 25,
   "id": "3766b877-5184-4414-a383-7c0a5ac7990e",
   "metadata": {},
   "outputs": [
    {
     "name": "stdin",
     "output_type": "stream",
     "text": [
      "enter age 56\n",
      "enter charge 200\n"
     ]
    },
    {
     "name": "stdout",
     "output_type": "stream",
     "text": [
      "customer gone\n"
     ]
    },
    {
     "name": "stderr",
     "output_type": "stream",
     "text": [
      "C:\\Users\\Victus\\AppData\\Local\\Programs\\Python\\Python311\\Lib\\site-packages\\sklearn\\base.py:493: UserWarning: X does not have valid feature names, but SVC was fitted with feature names\n",
      "  warnings.warn(\n"
     ]
    }
   ],
   "source": [
    "user_age=float(input(\"enter age\"))\n",
    "user_charge=float(input(\"enter charge\"))\n",
    "\n",
    "user_in=np.array([[user_age,user_charge]])\n",
    "predict=svc_model.predict(user_in)\n",
    "if predict[0]==1:\n",
    "    print(\"customer stay\")\n",
    "    \n",
    "else:{\n",
    "    print(\"customer gone\")\n",
    "}"
   ]
  },
  {
   "cell_type": "code",
   "execution_count": null,
   "id": "b986fe82-2e22-4f65-8cde-630232a1dc55",
   "metadata": {},
   "outputs": [],
   "source": []
  }
 ],
 "metadata": {
  "kernelspec": {
   "display_name": "Python 3 (ipykernel)",
   "language": "python",
   "name": "python3"
  },
  "language_info": {
   "codemirror_mode": {
    "name": "ipython",
    "version": 3
   },
   "file_extension": ".py",
   "mimetype": "text/x-python",
   "name": "python",
   "nbconvert_exporter": "python",
   "pygments_lexer": "ipython3",
   "version": "3.11.5"
  }
 },
 "nbformat": 4,
 "nbformat_minor": 5
}
