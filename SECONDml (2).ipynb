{
 "cells": [
  {
   "cell_type": "code",
   "execution_count": 1,
   "id": "ce6adcdd-0266-42c6-abae-6e6a71596942",
   "metadata": {},
   "outputs": [
    {
     "data": {
      "text/plain": [
       "' in an e-commerce company,the management wants to predict whether a customer will purchase a high value product based on their age ,time spent \\non the website ,and whether they have added teir cart. The goal is to optimize marketoing by targeting potential customers more effectively ,thereby increase \\nsales and revenue '"
      ]
     },
     "execution_count": 1,
     "metadata": {},
     "output_type": "execute_result"
    }
   ],
   "source": [
    "''' in an e-commerce company,the management wants to predict whether a customer will purchase a high value product based on their age ,time spent \n",
    "on the website ,and whether they have added teir cart. The goal is to optimize marketoing by targeting potential customers more effectively ,thereby increase \n",
    "sales and revenue '''\n"
   ]
  },
  {
   "cell_type": "code",
   "execution_count": 2,
   "id": "9e6a80d2-08c6-4bc1-b120-4d9b53b96635",
   "metadata": {},
   "outputs": [],
   "source": [
    "import numpy as np\n",
    "from sklearn.model_selection import train_test_split\n",
    "from sklearn.linear_model import LogisticRegression\n",
    "\n",
    "#2-D data\n",
    "#[age,spent_time,added_cart]\n",
    "x=np.array([[25,30,0],[30,40,1],[20,35,0],[35,45,1]])\n",
    "\n",
    "y=np.array([0,1,0,1])\n",
    "\n",
    "x_train,x_test,y_train,y_test=train_test_split(x,y,test_size=0.2,random_state=42)\n",
    "\n",
    "\n",
    "model=LogisticRegression()\n",
    "\n",
    "model.fit(x_train,y_train)\n",
    "\n",
    "accuracy=model.score(x_test,y_test)\n",
    "print(f\"model accuracy: {accuracy}\")\n",
    "\n",
    "user_age=float(input(\"enter your age\"))\n",
    "user_time=float(input(\"enter time\"))\n",
    "user_cart=int(input(\"enter 1 on 0 for cart\"))\n",
    "\n",
    "user_data=np.array([[user_age,user_time,user_cart]])\n",
    "\n",
    "prediction=model.predict(user_data)\n",
    "\n",
    "if prediction[0]==1:\n",
    "    print(\"going to buy\")\n",
    "else:\n",
    "    print(\"no buy\")\n"
   ]
  },
  {
   "cell_type": "code",
   "execution_count": null,
   "id": "b7d35b3f-2d3c-427f-acb9-6b230dcdca42",
   "metadata": {},
   "outputs": [],
   "source": []
  }
 ],
 "metadata": {
  "kernelspec": {
   "display_name": "Python 3 (ipykernel)",
   "language": "python",
   "name": "python3"
  },
  "language_info": {
   "codemirror_mode": {
    "name": "ipython",
    "version": 3
   },
   "file_extension": ".py",
   "mimetype": "text/x-python",
   "name": "python",
   "nbconvert_exporter": "python",
   "pygments_lexer": "ipython3",
   "version": "3.11.5"
  }
 },
 "nbformat": 4,
 "nbformat_minor": 5
}
