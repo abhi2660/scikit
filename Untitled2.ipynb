{
 "cells": [
  {
   "cell_type": "code",
   "execution_count": null,
   "id": "c15e5d7c-5dc2-431c-825f-f34695001601",
   "metadata": {},
   "outputs": [],
   "source": [
    "''' A telecommunication company wants to reduse customer churn y udentifying customer at risk of leaving.They have historical \n",
    "data on customer behaviour and want to build a model to predict which customers are most likely to churn.'''\n",
    "\n",
    "import numpy as np\n",
    "import pandas as pd\n",
    "from sklearn.model_selection import train_test_split\n",
    "from sklearn.svm import SVC\n",
    "from sklearn.metrics import accuracy_score,classification_report\n",
    "\n",
    "data={'age':[30,25,35,20,40,55,32,28],'monthly_charge':[50,60,80,40,100,120,70,55],'churn':[0,1,0,1,0,1,0,1]}\n",
    "df=pd.DataFrame(data)\n",
    "\n",
    "\n",
    "x=df[['age','monthly_charge']]\n",
    "y=df['churn']\n",
    "\n",
    "x_train,x_test,y_train,y_test=train_test_split(x,y,test_size=0.2,random_state=42)\n",
    "\n",
    "svc_model = SVC(kernel='linear', C=1.0)  #default regularization\n",
    "svc_model.fit(x_train,y_train)\n",
    "\n",
    "y_pred=svc_model.predict(x_test)\n",
    "\n",
    "accuracy=accuracy_score(y_test,y_pred)\n",
    "print(accuracy)\n",
    "\n",
    "report=classification_report(y_test,y_pred)\n",
    "print(report)\n",
    "\n",
    "user_age=float(input(\"enter age\"))\n",
    "user_charge=float(input(\"enter charge\"))\n",
    "\n",
    "user_in=np.array([[user_age,user_charge]])\n",
    "predict=svc_model.predict(user_in)\n",
    "if predict[0]==1:\n",
    "    print(\"customer stay\")\n",
    "    \n",
    "else:{\n",
    "    print(\"customer gone\")\n",
    "}"
   ]
  },
  {
   "cell_type": "code",
   "execution_count": null,
   "id": "b986fe82-2e22-4f65-8cde-630232a1dc55",
   "metadata": {},
   "outputs": [],
   "source": []
  }
 ],
 "metadata": {
  "kernelspec": {
   "display_name": "Python 3 (ipykernel)",
   "language": "python",
   "name": "python3"
  },
  "language_info": {
   "codemirror_mode": {
    "name": "ipython",
    "version": 3
   },
   "file_extension": ".py",
   "mimetype": "text/x-python",
   "name": "python",
   "nbconvert_exporter": "python",
   "pygments_lexer": "ipython3",
   "version": "3.11.5"
  }
 },
 "nbformat": 4,
 "nbformat_minor": 5
}
