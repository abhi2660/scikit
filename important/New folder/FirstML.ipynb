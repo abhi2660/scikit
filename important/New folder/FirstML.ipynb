{
 "cells": [
  {
   "cell_type": "code",
   "execution_count": 7,
   "id": "1c6162f2-ee0f-4801-9d32-a1ec41693407",
   "metadata": {},
   "outputs": [
    {
     "ename": "ModuleNotFoundError",
     "evalue": "No module named 'numpy'",
     "output_type": "error",
     "traceback": [
      "\u001b[1;31m---------------------------------------------------------------------------\u001b[0m",
      "\u001b[1;31mModuleNotFoundError\u001b[0m                       Traceback (most recent call last)",
      "Cell \u001b[1;32mIn[7], line 5\u001b[0m\n\u001b[0;32m      1\u001b[0m \u001b[38;5;124;03m''' Predict a satudents final exam score based on the number of hours they study'''\u001b[39;00m\n\u001b[1;32m----> 5\u001b[0m \u001b[38;5;28;01mimport\u001b[39;00m \u001b[38;5;21;01mnumpy\u001b[39;00m \u001b[38;5;28;01mas\u001b[39;00m \u001b[38;5;21;01mnp\u001b[39;00m\n\u001b[0;32m      6\u001b[0m \u001b[38;5;28;01mimport\u001b[39;00m \u001b[38;5;21;01mpandas\u001b[39;00m \u001b[38;5;28;01mas\u001b[39;00m \u001b[38;5;21;01mpd\u001b[39;00m\n\u001b[0;32m      7\u001b[0m \u001b[38;5;28;01mfrom\u001b[39;00m \u001b[38;5;21;01msklearn\u001b[39;00m\u001b[38;5;21;01m.\u001b[39;00m\u001b[38;5;21;01mmodel_selection\u001b[39;00m \u001b[38;5;28;01mimport\u001b[39;00m train_test_split\n",
      "\u001b[1;31mModuleNotFoundError\u001b[0m: No module named 'numpy'"
     ]
    }
   ],
   "source": [
    "''' Predict a satudents final exam score based on the number of hours they study'''\n",
    "\n",
    "\n",
    "\n",
    "import numpy as np\n",
    "import pandas as pd\n",
    "from sklearn.model_selection import train_test_split\n",
    "\n",
    "import numpy as np\n",
    "import pandas as pd\n",
    "from sklearn.model_selection import train_test_split\n",
    "from sklearn.linear_model import LinearRegression\n",
    "\n",
    "# step 2\n",
    "\n",
    "veerdata={'hour_study':[2,3,4,5,6,7,8,9,10],'exam_score':[50,60,70,75,80,85,90,92,95]}\n",
    "\n",
    "\n",
    "\n",
    "#step 3\n",
    "\n",
    "df=pd.DataFrame(veerdata)\n",
    "\n",
    "\n",
    "#step 4\n",
    "\n",
    "X=df[['hour_study']]\n",
    "Y=df[['exam_score']]\n",
    "\n",
    "#step 5\n",
    "X_train, X_test, Y_train, Y_test = train_test_split(X, Y, test_size=0.2, random_state=42)\n",
    "\n",
    "\n",
    "#step 6\n",
    "model=LinearRegression()\n",
    "\n",
    "#step 7\n",
    "model.fit(X_train,Y_train)\n",
    "\n",
    "# user_in=float(input(\"enter the number of hour you study \"))\n",
    "\n",
    "# predicted_score=model.predict([[user_in]])\n",
    "\n",
    "# print the output\n",
    "# print(f\"predicted exam score :{predicted_score}\")"
   ]
  },
  {
   "cell_type": "code",
   "execution_count": 6,
   "id": "92ad7aef-70b7-4a24-90bb-c331ce73e448",
   "metadata": {},
   "outputs": [],
   "source": [
    "import pickle"
   ]
  },
  {
   "cell_type": "code",
   "execution_count": 7,
   "id": "0365067f",
   "metadata": {},
   "outputs": [],
   "source": [
    "with open('prediction.pkl','wb') as file:\n",
    "    pickle.dump(model,file)"
   ]
  },
  {
   "cell_type": "markdown",
   "id": "68c79dd5",
   "metadata": {},
   "source": [
    "to use this pickle file \n",
    "\n",
    "import pickle\n",
    "\n",
    "with open('ptediction.pkl','rb') as file:\n",
    "    clf=pickle.load(file)\n",
    "\n",
    "\n",
    "\n",
    "prediction=clf.predict{[[give the require parameter]]}"
   ]
  }
 ],
 "metadata": {
  "kernelspec": {
   "display_name": "env",
   "language": "python",
   "name": "python3"
  },
  "language_info": {
   "codemirror_mode": {
    "name": "ipython",
    "version": 3
   },
   "file_extension": ".py",
   "mimetype": "text/x-python",
   "name": "python",
   "nbconvert_exporter": "python",
   "pygments_lexer": "ipython3",
   "version": "3.11.5"
  }
 },
 "nbformat": 4,
 "nbformat_minor": 5
}
